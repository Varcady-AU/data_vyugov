{
 "cells": [
  {
   "cell_type": "markdown",
   "metadata": {},
   "source": [
    "# Описание проекта"
   ]
  },
  {
   "cell_type": "markdown",
   "metadata": {},
   "source": [
    "Добывающей компании «ГлавРосГосНефть». Нужно решить, где бурить новую скважину.\n",
    "\n",
    "Нам предоставлены пробы нефти в трёх регионах: в каждом 10 000 месторождений, где измерили качество нефти и объём её запасов. Постройте модель машинного обучения, которая поможет определить регион, где добыча принесёт наибольшую прибыль. Проанализируйте возможную прибыль и риски техникой *Bootstrap.*\n",
    "\n",
    "Шаги для выбора локации:\n",
    "\n",
    "- В избранном регионе ищут месторождения, для каждого определяют значения признаков;\n",
    "- Строят модель и оценивают объём запасов;\n",
    "- Выбирают месторождения с самым высокими оценками значений. Количество месторождений зависит от бюджета компании и стоимости разработки одной скважины;\n",
    "- Прибыль равна суммарной прибыли отобранных месторождений."
   ]
  },
  {
   "cell_type": "markdown",
   "metadata": {},
   "source": [
    "# Определение лучшей локации для разведки и добычи нефти"
   ]
  },
  {
   "cell_type": "markdown",
   "metadata": {},
   "source": [
    "### Задача: построить модель для определения региона, где добыча нефти принесёт наибольшую прибыль.\n",
    "### Условия задачи:\n",
    "* Для обучения модели подходит только линейная регрессия (остальные — недостаточно предсказуемые).\n",
    "* При разведке региона исследуют 500 точек, из которых с помощью машинного обучения выбирают 200 лучших для разработки.\n",
    "* Бюджет на разработку скважин в регионе — 10 млрд рублей.\n",
    "* При нынешних ценах один баррель сырья приносит 450 рублей дохода. Доход с каждой единицы продукта составляет 450 тыс. рублей, поскольку объём указан в тысячах баррелей.\n",
    "* После оценки рисков нужно оставить лишь те регионы, в которых вероятность убытков меньше 2.5%. Среди них выбирают регион с наибольшей средней прибылью.\n",
    "\n",
    "### Исходные данные: предоставлены пробы нефти в трёх регионах, характеристики для каждой скважины в регионе."
   ]
  },
  {
   "cell_type": "markdown",
   "metadata": {},
   "source": [
    "### Описание данных\n",
    "* id — уникальный идентификатор скважины;\n",
    "* f0, f1, f2 — три признака точек (неважно, что они означают, но сами признаки значимы);\n",
    "* product — объём запасов в скважине (тыс. баррелей)."
   ]
  },
  {
   "cell_type": "markdown",
   "metadata": {},
   "source": [
    "# Оглавление\n",
    "### [1. Загрузка и подготовка данных](#1-bullet)\n",
    "### [2. Обучение и проверка модели](#2-bullet)\n",
    "### [3. Подготовка к расчёту прибыли](#3-bullet)\n",
    "### [4. Расчёт прибыли и рисков](#4-bullet)\n",
    "### [Вывод](#5-bullet)"
   ]
  },
  {
   "cell_type": "code",
   "execution_count": 1,
   "metadata": {},
   "outputs": [],
   "source": [
    "# Импортирт необходимых библиотек \n",
    "import pandas as pd\n",
    "import numpy as np\n",
    "from sklearn import metrics\n",
    "from sklearn.model_selection import train_test_split\n",
    "from sklearn.preprocessing import StandardScaler\n",
    "import plotly.express as px\n",
    "from sklearn.metrics import mean_squared_error\n",
    "from sklearn.linear_model import LinearRegression\n",
    "from numpy.random import RandomState\n",
    "from scipy import stats as st"
   ]
  },
  {
   "cell_type": "code",
   "execution_count": 2,
   "metadata": {},
   "outputs": [],
   "source": [
    "def info(data):\n",
    "    \"\"\"\n",
    "    Функция пробегает по признакам датафрейма и если тип у признака object, то смотрит уникальные значения, в противном случае \n",
    "    оценивается распределение\n",
    "    \"\"\"\n",
    "    for column in data.columns:   \n",
    "        if data[column].dtype == 'object': \n",
    "            print(column)\n",
    "            print(data[column].unique())\n",
    "            print()\n",
    "            print(data[column].describe())\n",
    "            print()            \n",
    "        else:            \n",
    "            print(column)\n",
    "            import plotly.express as px\n",
    "            fig = px.histogram(data, x = column, marginal = 'box', title = 'Распределение '+ column)\n",
    "            fig.show()"
   ]
  },
  {
   "cell_type": "markdown",
   "metadata": {},
   "source": [
    "# 1. Загрузка и подготовка данных<a id='1-bullet'></a>"
   ]
  },
  {
   "cell_type": "code",
   "execution_count": 3,
   "metadata": {
    "scrolled": false
   },
   "outputs": [
    {
     "data": {
      "text/html": [
       "<div>\n",
       "<style scoped>\n",
       "    .dataframe tbody tr th:only-of-type {\n",
       "        vertical-align: middle;\n",
       "    }\n",
       "\n",
       "    .dataframe tbody tr th {\n",
       "        vertical-align: top;\n",
       "    }\n",
       "\n",
       "    .dataframe thead th {\n",
       "        text-align: right;\n",
       "    }\n",
       "</style>\n",
       "<table border=\"1\" class=\"dataframe\">\n",
       "  <thead>\n",
       "    <tr style=\"text-align: right;\">\n",
       "      <th></th>\n",
       "      <th>id</th>\n",
       "      <th>f0</th>\n",
       "      <th>f1</th>\n",
       "      <th>f2</th>\n",
       "      <th>product</th>\n",
       "    </tr>\n",
       "  </thead>\n",
       "  <tbody>\n",
       "    <tr>\n",
       "      <th>0</th>\n",
       "      <td>txEyH</td>\n",
       "      <td>0.705745</td>\n",
       "      <td>-0.497823</td>\n",
       "      <td>1.221170</td>\n",
       "      <td>105.280062</td>\n",
       "    </tr>\n",
       "    <tr>\n",
       "      <th>1</th>\n",
       "      <td>2acmU</td>\n",
       "      <td>1.334711</td>\n",
       "      <td>-0.340164</td>\n",
       "      <td>4.365080</td>\n",
       "      <td>73.037750</td>\n",
       "    </tr>\n",
       "    <tr>\n",
       "      <th>2</th>\n",
       "      <td>409Wp</td>\n",
       "      <td>1.022732</td>\n",
       "      <td>0.151990</td>\n",
       "      <td>1.419926</td>\n",
       "      <td>85.265647</td>\n",
       "    </tr>\n",
       "    <tr>\n",
       "      <th>3</th>\n",
       "      <td>iJLyR</td>\n",
       "      <td>-0.032172</td>\n",
       "      <td>0.139033</td>\n",
       "      <td>2.978566</td>\n",
       "      <td>168.620776</td>\n",
       "    </tr>\n",
       "    <tr>\n",
       "      <th>4</th>\n",
       "      <td>Xdl7t</td>\n",
       "      <td>1.988431</td>\n",
       "      <td>0.155413</td>\n",
       "      <td>4.751769</td>\n",
       "      <td>154.036647</td>\n",
       "    </tr>\n",
       "  </tbody>\n",
       "</table>\n",
       "</div>"
      ],
      "text/plain": [
       "      id        f0        f1        f2     product\n",
       "0  txEyH  0.705745 -0.497823  1.221170  105.280062\n",
       "1  2acmU  1.334711 -0.340164  4.365080   73.037750\n",
       "2  409Wp  1.022732  0.151990  1.419926   85.265647\n",
       "3  iJLyR -0.032172  0.139033  2.978566  168.620776\n",
       "4  Xdl7t  1.988431  0.155413  4.751769  154.036647"
      ]
     },
     "metadata": {},
     "output_type": "display_data"
    }
   ],
   "source": [
    "# Оценим распределение данных в признаках по скважинам в регионе №0\n",
    "df_0 = pd.read_csv('C:/Users/vyugo/Documents/!Python/2. Проекты Я.Практикум/7. Модель по выбору региона где добывать нефть выгоднее/geo_data_0.csv')\n",
    "display(df_0.head()) \n",
    "#df_0.info()\n",
    "#info(df_0)"
   ]
  },
  {
   "cell_type": "code",
   "execution_count": 4,
   "metadata": {},
   "outputs": [
    {
     "data": {
      "text/plain": [
       "(99492, 5)"
      ]
     },
     "execution_count": 4,
     "metadata": {},
     "output_type": "execute_result"
    }
   ],
   "source": [
    "# Очистим исходные данные от выбрасов по признаку f2\n",
    "df_0 = df_0[(df_0['f2'] >= -6.352956) & (df_0['f2'] <= 11.3538)]\n",
    "df_0.shape"
   ]
  },
  {
   "cell_type": "code",
   "execution_count": 5,
   "metadata": {
    "scrolled": false
   },
   "outputs": [
    {
     "data": {
      "text/html": [
       "<div>\n",
       "<style scoped>\n",
       "    .dataframe tbody tr th:only-of-type {\n",
       "        vertical-align: middle;\n",
       "    }\n",
       "\n",
       "    .dataframe tbody tr th {\n",
       "        vertical-align: top;\n",
       "    }\n",
       "\n",
       "    .dataframe thead th {\n",
       "        text-align: right;\n",
       "    }\n",
       "</style>\n",
       "<table border=\"1\" class=\"dataframe\">\n",
       "  <thead>\n",
       "    <tr style=\"text-align: right;\">\n",
       "      <th></th>\n",
       "      <th>id</th>\n",
       "      <th>f0</th>\n",
       "      <th>f1</th>\n",
       "      <th>f2</th>\n",
       "      <th>product</th>\n",
       "    </tr>\n",
       "  </thead>\n",
       "  <tbody>\n",
       "    <tr>\n",
       "      <th>0</th>\n",
       "      <td>kBEdx</td>\n",
       "      <td>-15.001348</td>\n",
       "      <td>-8.276000</td>\n",
       "      <td>-0.005876</td>\n",
       "      <td>3.179103</td>\n",
       "    </tr>\n",
       "    <tr>\n",
       "      <th>1</th>\n",
       "      <td>62mP7</td>\n",
       "      <td>14.272088</td>\n",
       "      <td>-3.475083</td>\n",
       "      <td>0.999183</td>\n",
       "      <td>26.953261</td>\n",
       "    </tr>\n",
       "    <tr>\n",
       "      <th>2</th>\n",
       "      <td>vyE1P</td>\n",
       "      <td>6.263187</td>\n",
       "      <td>-5.948386</td>\n",
       "      <td>5.001160</td>\n",
       "      <td>134.766305</td>\n",
       "    </tr>\n",
       "    <tr>\n",
       "      <th>3</th>\n",
       "      <td>KcrkZ</td>\n",
       "      <td>-13.081196</td>\n",
       "      <td>-11.506057</td>\n",
       "      <td>4.999415</td>\n",
       "      <td>137.945408</td>\n",
       "    </tr>\n",
       "    <tr>\n",
       "      <th>4</th>\n",
       "      <td>AHL4O</td>\n",
       "      <td>12.702195</td>\n",
       "      <td>-8.147433</td>\n",
       "      <td>5.004363</td>\n",
       "      <td>134.766305</td>\n",
       "    </tr>\n",
       "  </tbody>\n",
       "</table>\n",
       "</div>"
      ],
      "text/plain": [
       "      id         f0         f1        f2     product\n",
       "0  kBEdx -15.001348  -8.276000 -0.005876    3.179103\n",
       "1  62mP7  14.272088  -3.475083  0.999183   26.953261\n",
       "2  vyE1P   6.263187  -5.948386  5.001160  134.766305\n",
       "3  KcrkZ -13.081196 -11.506057  4.999415  137.945408\n",
       "4  AHL4O  12.702195  -8.147433  5.004363  134.766305"
      ]
     },
     "metadata": {},
     "output_type": "display_data"
    }
   ],
   "source": [
    "# Оценим распределение данных в признаках по скважинам в регионе №1\n",
    "df_1 = pd.read_csv('C:/Users/vyugo/Documents/!Python/2. Проекты Я.Практикум/7. Модель по выбору региона где добывать нефть выгоднее/geo_data_1.csv')\n",
    "display(df_1.head())\n",
    "#df_1.info()\n",
    "#info(df_1)"
   ]
  },
  {
   "cell_type": "code",
   "execution_count": 6,
   "metadata": {},
   "outputs": [
    {
     "data": {
      "text/plain": [
       "(99362, 5)"
      ]
     },
     "execution_count": 6,
     "metadata": {},
     "output_type": "execute_result"
    }
   ],
   "source": [
    "# Очистим исходные данные от выбрасов по признакам f0, f1\n",
    "df_1 = (df_1[\n",
    "       (df_1['f1'] >= -18.66778) & \n",
    "       (df_1['f1'] <= 9.050688) &\n",
    "       (df_1['f0'] >= -27.82962)\n",
    "])\n",
    "df_1.shape"
   ]
  },
  {
   "cell_type": "code",
   "execution_count": 7,
   "metadata": {
    "scrolled": false
   },
   "outputs": [
    {
     "data": {
      "text/html": [
       "<div>\n",
       "<style scoped>\n",
       "    .dataframe tbody tr th:only-of-type {\n",
       "        vertical-align: middle;\n",
       "    }\n",
       "\n",
       "    .dataframe tbody tr th {\n",
       "        vertical-align: top;\n",
       "    }\n",
       "\n",
       "    .dataframe thead th {\n",
       "        text-align: right;\n",
       "    }\n",
       "</style>\n",
       "<table border=\"1\" class=\"dataframe\">\n",
       "  <thead>\n",
       "    <tr style=\"text-align: right;\">\n",
       "      <th></th>\n",
       "      <th>id</th>\n",
       "      <th>f0</th>\n",
       "      <th>f1</th>\n",
       "      <th>f2</th>\n",
       "      <th>product</th>\n",
       "    </tr>\n",
       "  </thead>\n",
       "  <tbody>\n",
       "    <tr>\n",
       "      <th>0</th>\n",
       "      <td>fwXo0</td>\n",
       "      <td>-1.146987</td>\n",
       "      <td>0.963328</td>\n",
       "      <td>-0.828965</td>\n",
       "      <td>27.758673</td>\n",
       "    </tr>\n",
       "    <tr>\n",
       "      <th>1</th>\n",
       "      <td>WJtFt</td>\n",
       "      <td>0.262778</td>\n",
       "      <td>0.269839</td>\n",
       "      <td>-2.530187</td>\n",
       "      <td>56.069697</td>\n",
       "    </tr>\n",
       "    <tr>\n",
       "      <th>2</th>\n",
       "      <td>ovLUW</td>\n",
       "      <td>0.194587</td>\n",
       "      <td>0.289035</td>\n",
       "      <td>-5.586433</td>\n",
       "      <td>62.871910</td>\n",
       "    </tr>\n",
       "    <tr>\n",
       "      <th>3</th>\n",
       "      <td>q6cA6</td>\n",
       "      <td>2.236060</td>\n",
       "      <td>-0.553760</td>\n",
       "      <td>0.930038</td>\n",
       "      <td>114.572842</td>\n",
       "    </tr>\n",
       "    <tr>\n",
       "      <th>4</th>\n",
       "      <td>WPMUX</td>\n",
       "      <td>-0.515993</td>\n",
       "      <td>1.716266</td>\n",
       "      <td>5.899011</td>\n",
       "      <td>149.600746</td>\n",
       "    </tr>\n",
       "  </tbody>\n",
       "</table>\n",
       "</div>"
      ],
      "text/plain": [
       "      id        f0        f1        f2     product\n",
       "0  fwXo0 -1.146987  0.963328 -0.828965   27.758673\n",
       "1  WJtFt  0.262778  0.269839 -2.530187   56.069697\n",
       "2  ovLUW  0.194587  0.289035 -5.586433   62.871910\n",
       "3  q6cA6  2.236060 -0.553760  0.930038  114.572842\n",
       "4  WPMUX -0.515993  1.716266  5.899011  149.600746"
      ]
     },
     "metadata": {},
     "output_type": "display_data"
    }
   ],
   "source": [
    "# Оценим распределение данных в признаках по скважинам в регионе №1\n",
    "df_2 = pd.read_csv('C:/Users/vyugo/Documents/!Python/2. Проекты Я.Практикум/7. Модель по выбору региона где добывать нефть выгоднее/geo_data_2.csv')\n",
    "display(df_2.head())\n",
    "#df_2.info()\n",
    "#info(df_2)"
   ]
  },
  {
   "cell_type": "code",
   "execution_count": 8,
   "metadata": {},
   "outputs": [
    {
     "data": {
      "text/plain": [
       "(98001, 5)"
      ]
     },
     "execution_count": 8,
     "metadata": {},
     "output_type": "execute_result"
    }
   ],
   "source": [
    "# Очистим исходные данные от выбрасов по признакам f0, f1, f2\n",
    "df_2 = (df_2[\n",
    "       (df_2['f0'] >= -4.64083) & \n",
    "       (df_2['f0'] <= 4.637965) &\n",
    "       (df_2['f1'] >= -4.682104) & \n",
    "       (df_2['f1'] <= 4.67061) &\n",
    "       (df_2['f2'] >= -6.944602) & \n",
    "       (df_2['f2'] <= 11.94592)\n",
    "])\n",
    "df_2.shape"
   ]
  },
  {
   "cell_type": "markdown",
   "metadata": {},
   "source": [
    "### Вывод\n",
    "1. Мы изучили исходные данные, удалили выявленные выбросы, которые помешают нам адекватно обучить модель.\n",
    "2. В процессе анализа распределения признаков региона №1 были обнаружены аномалии. Все скважены региона делятся на 12 классов с по уровню запасов, что является невозможным в природе. \n",
    "3. Считаю что данные по региону №1 требую уточнения у геологов - возможно в данных ошибка."
   ]
  },
  {
   "cell_type": "markdown",
   "metadata": {},
   "source": [
    "# 2. Обучение и проверка модели<a id='2-bullet'></a>"
   ]
  },
  {
   "cell_type": "markdown",
   "metadata": {},
   "source": [
    "#### Обучите и проверьте модель для каждого региона:\n",
    "* 2.1. Разбейте данные на обучающую и валидационную выборки в соотношении 75:25.\n",
    "* 2.2. Обучите модель и сделайте предсказания на валидационной выборке.\n",
    "* 2.3. Сохраните предсказания и правильные ответы на валидационной выборке.\n",
    "* 2.4. Напечатайте на экране средний запас предсказанного сырья и RMSE модели.\n",
    "* 2.5. Проанализируйте результаты."
   ]
  },
  {
   "cell_type": "code",
   "execution_count": 9,
   "metadata": {},
   "outputs": [],
   "source": [
    "# Создадим функцию по по разбивке данных на обучающую и валидационную выборки\n",
    "def neft_model(df):\n",
    "        \n",
    "    # Построим матрицу корреляций\n",
    "    corr = df.corr()\n",
    "    corr.style.background_gradient(cmap='coolwarm')\n",
    "    display(corr.style.background_gradient(cmap='coolwarm'))\n",
    "        \n",
    "    features = df.drop(['id','product'], axis = 1) # извлечем признаки \n",
    "    target = df['product'] # извлечем целевой признак\n",
    "\n",
    "    # Разделим исходные данные для кроссвалидации на тренировочную и тестовую выборки 75%/25%\n",
    "    X_train, X_valid, Y_train, Y_valid = train_test_split(\n",
    "        features, target, test_size=0.25, random_state=4568)\n",
    "    print(X_train.shape, X_valid.shape, Y_train.shape, Y_valid.shape)\n",
    "    return X_train, X_valid, Y_train, Y_valid"
   ]
  },
  {
   "cell_type": "code",
   "execution_count": 10,
   "metadata": {},
   "outputs": [
    {
     "data": {
      "text/html": [
       "<style  type=\"text/css\" >\n",
       "#T_10bdd_row0_col0,#T_10bdd_row1_col1,#T_10bdd_row2_col2,#T_10bdd_row3_col3{\n",
       "            background-color:  #b40426;\n",
       "            color:  #f1f1f1;\n",
       "        }#T_10bdd_row0_col1,#T_10bdd_row0_col2,#T_10bdd_row1_col0,#T_10bdd_row1_col3{\n",
       "            background-color:  #3b4cc0;\n",
       "            color:  #f1f1f1;\n",
       "        }#T_10bdd_row0_col3{\n",
       "            background-color:  #98b9ff;\n",
       "            color:  #000000;\n",
       "        }#T_10bdd_row1_col2{\n",
       "            background-color:  #3c4ec2;\n",
       "            color:  #f1f1f1;\n",
       "        }#T_10bdd_row2_col0{\n",
       "            background-color:  #9fbfff;\n",
       "            color:  #000000;\n",
       "        }#T_10bdd_row2_col1{\n",
       "            background-color:  #a1c0ff;\n",
       "            color:  #000000;\n",
       "        }#T_10bdd_row2_col3{\n",
       "            background-color:  #ecd3c5;\n",
       "            color:  #000000;\n",
       "        }#T_10bdd_row3_col0{\n",
       "            background-color:  #c1d4f4;\n",
       "            color:  #000000;\n",
       "        }#T_10bdd_row3_col1{\n",
       "            background-color:  #7295f4;\n",
       "            color:  #000000;\n",
       "        }#T_10bdd_row3_col2{\n",
       "            background-color:  #d8dce2;\n",
       "            color:  #000000;\n",
       "        }</style><table id=\"T_10bdd_\" ><thead>    <tr>        <th class=\"blank level0\" ></th>        <th class=\"col_heading level0 col0\" >f0</th>        <th class=\"col_heading level0 col1\" >f1</th>        <th class=\"col_heading level0 col2\" >f2</th>        <th class=\"col_heading level0 col3\" >product</th>    </tr></thead><tbody>\n",
       "                <tr>\n",
       "                        <th id=\"T_10bdd_level0_row0\" class=\"row_heading level0 row0\" >f0</th>\n",
       "                        <td id=\"T_10bdd_row0_col0\" class=\"data row0 col0\" >1.000000</td>\n",
       "                        <td id=\"T_10bdd_row0_col1\" class=\"data row0 col1\" >-0.440711</td>\n",
       "                        <td id=\"T_10bdd_row0_col2\" class=\"data row0 col2\" >-0.003352</td>\n",
       "                        <td id=\"T_10bdd_row0_col3\" class=\"data row0 col3\" >0.143597</td>\n",
       "            </tr>\n",
       "            <tr>\n",
       "                        <th id=\"T_10bdd_level0_row1\" class=\"row_heading level0 row1\" >f1</th>\n",
       "                        <td id=\"T_10bdd_row1_col0\" class=\"data row1 col0\" >-0.440711</td>\n",
       "                        <td id=\"T_10bdd_row1_col1\" class=\"data row1 col1\" >1.000000</td>\n",
       "                        <td id=\"T_10bdd_row1_col2\" class=\"data row1 col2\" >0.001153</td>\n",
       "                        <td id=\"T_10bdd_row1_col3\" class=\"data row1 col3\" >-0.192743</td>\n",
       "            </tr>\n",
       "            <tr>\n",
       "                        <th id=\"T_10bdd_level0_row2\" class=\"row_heading level0 row2\" >f2</th>\n",
       "                        <td id=\"T_10bdd_row2_col0\" class=\"data row2 col0\" >-0.003352</td>\n",
       "                        <td id=\"T_10bdd_row2_col1\" class=\"data row2 col1\" >0.001153</td>\n",
       "                        <td id=\"T_10bdd_row2_col2\" class=\"data row2 col2\" >1.000000</td>\n",
       "                        <td id=\"T_10bdd_row2_col3\" class=\"data row2 col3\" >0.480132</td>\n",
       "            </tr>\n",
       "            <tr>\n",
       "                        <th id=\"T_10bdd_level0_row3\" class=\"row_heading level0 row3\" >product</th>\n",
       "                        <td id=\"T_10bdd_row3_col0\" class=\"data row3 col0\" >0.143597</td>\n",
       "                        <td id=\"T_10bdd_row3_col1\" class=\"data row3 col1\" >-0.192743</td>\n",
       "                        <td id=\"T_10bdd_row3_col2\" class=\"data row3 col2\" >0.480132</td>\n",
       "                        <td id=\"T_10bdd_row3_col3\" class=\"data row3 col3\" >1.000000</td>\n",
       "            </tr>\n",
       "    </tbody></table>"
      ],
      "text/plain": [
       "<pandas.io.formats.style.Styler at 0x1e70e7e09a0>"
      ]
     },
     "metadata": {},
     "output_type": "display_data"
    },
    {
     "name": "stdout",
     "output_type": "stream",
     "text": [
      "(74619, 3) (24873, 3) (74619,) (24873,)\n"
     ]
    }
   ],
   "source": [
    "# Разобъем данные региона №0 и посмотрим корреляцию признаков\n",
    "X_train_0, X_valid_0, Y_train_0, Y_valid_0 = neft_model(df_0)\n",
    "#X_train_0.head()"
   ]
  },
  {
   "cell_type": "code",
   "execution_count": 11,
   "metadata": {},
   "outputs": [
    {
     "data": {
      "text/html": [
       "<style  type=\"text/css\" >\n",
       "#T_a54b1_row0_col0,#T_a54b1_row1_col1,#T_a54b1_row2_col2,#T_a54b1_row2_col3,#T_a54b1_row3_col2,#T_a54b1_row3_col3{\n",
       "            background-color:  #b40426;\n",
       "            color:  #f1f1f1;\n",
       "        }#T_a54b1_row0_col1{\n",
       "            background-color:  #7699f6;\n",
       "            color:  #000000;\n",
       "        }#T_a54b1_row0_col2,#T_a54b1_row0_col3,#T_a54b1_row1_col2,#T_a54b1_row3_col0,#T_a54b1_row3_col1{\n",
       "            background-color:  #3b4cc0;\n",
       "            color:  #f1f1f1;\n",
       "        }#T_a54b1_row1_col0{\n",
       "            background-color:  #7da0f9;\n",
       "            color:  #000000;\n",
       "        }#T_a54b1_row1_col3{\n",
       "            background-color:  #3f53c6;\n",
       "            color:  #f1f1f1;\n",
       "        }#T_a54b1_row2_col0{\n",
       "            background-color:  #4358cb;\n",
       "            color:  #f1f1f1;\n",
       "        }#T_a54b1_row2_col1{\n",
       "            background-color:  #3c4ec2;\n",
       "            color:  #f1f1f1;\n",
       "        }</style><table id=\"T_a54b1_\" ><thead>    <tr>        <th class=\"blank level0\" ></th>        <th class=\"col_heading level0 col0\" >f0</th>        <th class=\"col_heading level0 col1\" >f1</th>        <th class=\"col_heading level0 col2\" >f2</th>        <th class=\"col_heading level0 col3\" >product</th>    </tr></thead><tbody>\n",
       "                <tr>\n",
       "                        <th id=\"T_a54b1_level0_row0\" class=\"row_heading level0 row0\" >f0</th>\n",
       "                        <td id=\"T_a54b1_row0_col0\" class=\"data row0 col0\" >1.000000</td>\n",
       "                        <td id=\"T_a54b1_row0_col1\" class=\"data row0 col1\" >0.178986</td>\n",
       "                        <td id=\"T_a54b1_row0_col2\" class=\"data row0 col2\" >-0.001616</td>\n",
       "                        <td id=\"T_a54b1_row0_col3\" class=\"data row0 col3\" >-0.030336</td>\n",
       "            </tr>\n",
       "            <tr>\n",
       "                        <th id=\"T_a54b1_level0_row1\" class=\"row_heading level0 row1\" >f1</th>\n",
       "                        <td id=\"T_a54b1_row1_col0\" class=\"data row1 col0\" >0.178986</td>\n",
       "                        <td id=\"T_a54b1_row1_col1\" class=\"data row1 col1\" >1.000000</td>\n",
       "                        <td id=\"T_a54b1_row1_col2\" class=\"data row1 col2\" >-0.002808</td>\n",
       "                        <td id=\"T_a54b1_row1_col3\" class=\"data row1 col3\" >-0.010228</td>\n",
       "            </tr>\n",
       "            <tr>\n",
       "                        <th id=\"T_a54b1_level0_row2\" class=\"row_heading level0 row2\" >f2</th>\n",
       "                        <td id=\"T_a54b1_row2_col0\" class=\"data row2 col0\" >-0.001616</td>\n",
       "                        <td id=\"T_a54b1_row2_col1\" class=\"data row2 col1\" >-0.002808</td>\n",
       "                        <td id=\"T_a54b1_row2_col2\" class=\"data row2 col2\" >1.000000</td>\n",
       "                        <td id=\"T_a54b1_row2_col3\" class=\"data row2 col3\" >0.999397</td>\n",
       "            </tr>\n",
       "            <tr>\n",
       "                        <th id=\"T_a54b1_level0_row3\" class=\"row_heading level0 row3\" >product</th>\n",
       "                        <td id=\"T_a54b1_row3_col0\" class=\"data row3 col0\" >-0.030336</td>\n",
       "                        <td id=\"T_a54b1_row3_col1\" class=\"data row3 col1\" >-0.010228</td>\n",
       "                        <td id=\"T_a54b1_row3_col2\" class=\"data row3 col2\" >0.999397</td>\n",
       "                        <td id=\"T_a54b1_row3_col3\" class=\"data row3 col3\" >1.000000</td>\n",
       "            </tr>\n",
       "    </tbody></table>"
      ],
      "text/plain": [
       "<pandas.io.formats.style.Styler at 0x1e70e82d160>"
      ]
     },
     "metadata": {},
     "output_type": "display_data"
    },
    {
     "name": "stdout",
     "output_type": "stream",
     "text": [
      "(74521, 3) (24841, 3) (74521,) (24841,)\n"
     ]
    }
   ],
   "source": [
    "# Разобъем данные региона №1 и посмотрим корреляцию признаков\n",
    "X_train_1, X_valid_1, Y_train_1, Y_valid_1 = neft_model(df_1)\n",
    "#X_valid_1.head()"
   ]
  },
  {
   "cell_type": "code",
   "execution_count": 12,
   "metadata": {},
   "outputs": [
    {
     "data": {
      "text/html": [
       "<style  type=\"text/css\" >\n",
       "#T_f6308_row0_col0,#T_f6308_row1_col1,#T_f6308_row2_col2,#T_f6308_row3_col3{\n",
       "            background-color:  #b40426;\n",
       "            color:  #f1f1f1;\n",
       "        }#T_f6308_row0_col1,#T_f6308_row0_col2,#T_f6308_row0_col3,#T_f6308_row1_col0,#T_f6308_row1_col2,#T_f6308_row1_col3,#T_f6308_row2_col0,#T_f6308_row2_col1,#T_f6308_row3_col0,#T_f6308_row3_col1{\n",
       "            background-color:  #3b4cc0;\n",
       "            color:  #f1f1f1;\n",
       "        }#T_f6308_row2_col3{\n",
       "            background-color:  #cdd9ec;\n",
       "            color:  #000000;\n",
       "        }#T_f6308_row3_col2{\n",
       "            background-color:  #ccd9ed;\n",
       "            color:  #000000;\n",
       "        }</style><table id=\"T_f6308_\" ><thead>    <tr>        <th class=\"blank level0\" ></th>        <th class=\"col_heading level0 col0\" >f0</th>        <th class=\"col_heading level0 col1\" >f1</th>        <th class=\"col_heading level0 col2\" >f2</th>        <th class=\"col_heading level0 col3\" >product</th>    </tr></thead><tbody>\n",
       "                <tr>\n",
       "                        <th id=\"T_f6308_level0_row0\" class=\"row_heading level0 row0\" >f0</th>\n",
       "                        <td id=\"T_f6308_row0_col0\" class=\"data row0 col0\" >1.000000</td>\n",
       "                        <td id=\"T_f6308_row0_col1\" class=\"data row0 col1\" >0.000652</td>\n",
       "                        <td id=\"T_f6308_row0_col2\" class=\"data row0 col2\" >0.000509</td>\n",
       "                        <td id=\"T_f6308_row0_col3\" class=\"data row0 col3\" >-0.002947</td>\n",
       "            </tr>\n",
       "            <tr>\n",
       "                        <th id=\"T_f6308_level0_row1\" class=\"row_heading level0 row1\" >f1</th>\n",
       "                        <td id=\"T_f6308_row1_col0\" class=\"data row1 col0\" >0.000652</td>\n",
       "                        <td id=\"T_f6308_row1_col1\" class=\"data row1 col1\" >1.000000</td>\n",
       "                        <td id=\"T_f6308_row1_col2\" class=\"data row1 col2\" >0.000699</td>\n",
       "                        <td id=\"T_f6308_row1_col3\" class=\"data row1 col3\" >-0.000893</td>\n",
       "            </tr>\n",
       "            <tr>\n",
       "                        <th id=\"T_f6308_level0_row2\" class=\"row_heading level0 row2\" >f2</th>\n",
       "                        <td id=\"T_f6308_row2_col0\" class=\"data row2 col0\" >0.000509</td>\n",
       "                        <td id=\"T_f6308_row2_col1\" class=\"data row2 col1\" >0.000699</td>\n",
       "                        <td id=\"T_f6308_row2_col2\" class=\"data row2 col2\" >1.000000</td>\n",
       "                        <td id=\"T_f6308_row2_col3\" class=\"data row2 col3\" >0.441198</td>\n",
       "            </tr>\n",
       "            <tr>\n",
       "                        <th id=\"T_f6308_level0_row3\" class=\"row_heading level0 row3\" >product</th>\n",
       "                        <td id=\"T_f6308_row3_col0\" class=\"data row3 col0\" >-0.002947</td>\n",
       "                        <td id=\"T_f6308_row3_col1\" class=\"data row3 col1\" >-0.000893</td>\n",
       "                        <td id=\"T_f6308_row3_col2\" class=\"data row3 col2\" >0.441198</td>\n",
       "                        <td id=\"T_f6308_row3_col3\" class=\"data row3 col3\" >1.000000</td>\n",
       "            </tr>\n",
       "    </tbody></table>"
      ],
      "text/plain": [
       "<pandas.io.formats.style.Styler at 0x1e710c65ee0>"
      ]
     },
     "metadata": {},
     "output_type": "display_data"
    },
    {
     "name": "stdout",
     "output_type": "stream",
     "text": [
      "(73500, 3) (24501, 3) (73500,) (24501,)\n"
     ]
    }
   ],
   "source": [
    "# Разобъем данные региона №2 и посмотрим корреляцию признаков\n",
    "X_train_2, X_valid_2, Y_train_2, Y_valid_2 = neft_model(df_2)\n",
    "#Y_train_1.head()"
   ]
  },
  {
   "cell_type": "code",
   "execution_count": 13,
   "metadata": {},
   "outputs": [],
   "source": [
    "from sklearn.metrics import mean_squared_error\n",
    "def LRegression(X_train, X_valid, Y_train, Y_valid):\n",
    "    model = LinearRegression(normalize=True)\n",
    "    model.fit(X_train, Y_train)\n",
    "    predictions_valid = model.predict(X_valid)\n",
    "    result = mean_squared_error(Y_valid, predictions_valid)**0.5\n",
    "    df = (pd.DataFrame(predictions_valid, Y_valid)\n",
    "            .reset_index()\n",
    "            .set_axis(['product', 'predictions'], axis=1, inplace=False))  \n",
    "    print(\"Cредний запас предсказанного сырья:\", round(df['predictions'].mean(), 4))\n",
    "    print(\"Cредний запас реального сырья:\", round(df['product'].mean(), 4))\n",
    "    print(\"RMSE модели линейной регрессии на валидационной выборке:\", round(result, 2))\n",
    "    return df"
   ]
  },
  {
   "cell_type": "code",
   "execution_count": 14,
   "metadata": {},
   "outputs": [
    {
     "name": "stdout",
     "output_type": "stream",
     "text": [
      "Cредний запас предсказанного сырья: 92.7177\n",
      "Cредний запас реального сырья: 92.403\n",
      "RMSE модели линейной регрессии на валидационной выборке: 37.78\n"
     ]
    },
    {
     "data": {
      "text/html": [
       "<div>\n",
       "<style scoped>\n",
       "    .dataframe tbody tr th:only-of-type {\n",
       "        vertical-align: middle;\n",
       "    }\n",
       "\n",
       "    .dataframe tbody tr th {\n",
       "        vertical-align: top;\n",
       "    }\n",
       "\n",
       "    .dataframe thead th {\n",
       "        text-align: right;\n",
       "    }\n",
       "</style>\n",
       "<table border=\"1\" class=\"dataframe\">\n",
       "  <thead>\n",
       "    <tr style=\"text-align: right;\">\n",
       "      <th></th>\n",
       "      <th>product</th>\n",
       "      <th>predictions</th>\n",
       "    </tr>\n",
       "  </thead>\n",
       "  <tbody>\n",
       "    <tr>\n",
       "      <th>0</th>\n",
       "      <td>63.746378</td>\n",
       "      <td>56.207420</td>\n",
       "    </tr>\n",
       "    <tr>\n",
       "      <th>1</th>\n",
       "      <td>48.814163</td>\n",
       "      <td>97.897121</td>\n",
       "    </tr>\n",
       "    <tr>\n",
       "      <th>2</th>\n",
       "      <td>55.246818</td>\n",
       "      <td>102.022640</td>\n",
       "    </tr>\n",
       "    <tr>\n",
       "      <th>3</th>\n",
       "      <td>76.535707</td>\n",
       "      <td>80.388935</td>\n",
       "    </tr>\n",
       "    <tr>\n",
       "      <th>4</th>\n",
       "      <td>32.426127</td>\n",
       "      <td>62.403230</td>\n",
       "    </tr>\n",
       "  </tbody>\n",
       "</table>\n",
       "</div>"
      ],
      "text/plain": [
       "     product  predictions\n",
       "0  63.746378    56.207420\n",
       "1  48.814163    97.897121\n",
       "2  55.246818   102.022640\n",
       "3  76.535707    80.388935\n",
       "4  32.426127    62.403230"
      ]
     },
     "execution_count": 14,
     "metadata": {},
     "output_type": "execute_result"
    }
   ],
   "source": [
    "# Предсказания модели и реальные данные региона №0\n",
    "predictions_0 = LRegression(X_train_0, X_valid_0, Y_train_0, Y_valid_0)\n",
    "predictions_0.head()"
   ]
  },
  {
   "cell_type": "code",
   "execution_count": 15,
   "metadata": {},
   "outputs": [
    {
     "name": "stdout",
     "output_type": "stream",
     "text": [
      "Cредний запас предсказанного сырья: 69.0406\n",
      "Cредний запас реального сырья: 69.0388\n",
      "RMSE модели линейной регрессии на валидационной выборке: 0.9\n"
     ]
    },
    {
     "data": {
      "text/html": [
       "<div>\n",
       "<style scoped>\n",
       "    .dataframe tbody tr th:only-of-type {\n",
       "        vertical-align: middle;\n",
       "    }\n",
       "\n",
       "    .dataframe tbody tr th {\n",
       "        vertical-align: top;\n",
       "    }\n",
       "\n",
       "    .dataframe thead th {\n",
       "        text-align: right;\n",
       "    }\n",
       "</style>\n",
       "<table border=\"1\" class=\"dataframe\">\n",
       "  <thead>\n",
       "    <tr style=\"text-align: right;\">\n",
       "      <th></th>\n",
       "      <th>product</th>\n",
       "      <th>predictions</th>\n",
       "    </tr>\n",
       "  </thead>\n",
       "  <tbody>\n",
       "    <tr>\n",
       "      <th>0</th>\n",
       "      <td>30.132364</td>\n",
       "      <td>29.326654</td>\n",
       "    </tr>\n",
       "    <tr>\n",
       "      <th>1</th>\n",
       "      <td>137.945408</td>\n",
       "      <td>137.077430</td>\n",
       "    </tr>\n",
       "    <tr>\n",
       "      <th>2</th>\n",
       "      <td>53.906522</td>\n",
       "      <td>55.521062</td>\n",
       "    </tr>\n",
       "    <tr>\n",
       "      <th>3</th>\n",
       "      <td>26.953261</td>\n",
       "      <td>27.375079</td>\n",
       "    </tr>\n",
       "    <tr>\n",
       "      <th>4</th>\n",
       "      <td>3.179103</td>\n",
       "      <td>1.781508</td>\n",
       "    </tr>\n",
       "  </tbody>\n",
       "</table>\n",
       "</div>"
      ],
      "text/plain": [
       "      product  predictions\n",
       "0   30.132364    29.326654\n",
       "1  137.945408   137.077430\n",
       "2   53.906522    55.521062\n",
       "3   26.953261    27.375079\n",
       "4    3.179103     1.781508"
      ]
     },
     "execution_count": 15,
     "metadata": {},
     "output_type": "execute_result"
    }
   ],
   "source": [
    "# Предсказания модели и реальные данные региона №1\n",
    "predictions_1 = LRegression(X_train_1, X_valid_1, Y_train_1, Y_valid_1)\n",
    "predictions_1.head()"
   ]
  },
  {
   "cell_type": "code",
   "execution_count": 16,
   "metadata": {},
   "outputs": [
    {
     "name": "stdout",
     "output_type": "stream",
     "text": [
      "Cредний запас предсказанного сырья: 94.8515\n",
      "Cредний запас реального сырья: 94.9302\n",
      "RMSE модели линейной регрессии на валидационной выборке: 40.03\n"
     ]
    },
    {
     "data": {
      "text/html": [
       "<div>\n",
       "<style scoped>\n",
       "    .dataframe tbody tr th:only-of-type {\n",
       "        vertical-align: middle;\n",
       "    }\n",
       "\n",
       "    .dataframe tbody tr th {\n",
       "        vertical-align: top;\n",
       "    }\n",
       "\n",
       "    .dataframe thead th {\n",
       "        text-align: right;\n",
       "    }\n",
       "</style>\n",
       "<table border=\"1\" class=\"dataframe\">\n",
       "  <thead>\n",
       "    <tr style=\"text-align: right;\">\n",
       "      <th></th>\n",
       "      <th>product</th>\n",
       "      <th>predictions</th>\n",
       "    </tr>\n",
       "  </thead>\n",
       "  <tbody>\n",
       "    <tr>\n",
       "      <th>0</th>\n",
       "      <td>102.196577</td>\n",
       "      <td>63.392930</td>\n",
       "    </tr>\n",
       "    <tr>\n",
       "      <th>1</th>\n",
       "      <td>116.734117</td>\n",
       "      <td>95.511872</td>\n",
       "    </tr>\n",
       "    <tr>\n",
       "      <th>2</th>\n",
       "      <td>77.954912</td>\n",
       "      <td>63.560661</td>\n",
       "    </tr>\n",
       "    <tr>\n",
       "      <th>3</th>\n",
       "      <td>18.643399</td>\n",
       "      <td>102.083554</td>\n",
       "    </tr>\n",
       "    <tr>\n",
       "      <th>4</th>\n",
       "      <td>93.359340</td>\n",
       "      <td>100.885557</td>\n",
       "    </tr>\n",
       "  </tbody>\n",
       "</table>\n",
       "</div>"
      ],
      "text/plain": [
       "      product  predictions\n",
       "0  102.196577    63.392930\n",
       "1  116.734117    95.511872\n",
       "2   77.954912    63.560661\n",
       "3   18.643399   102.083554\n",
       "4   93.359340   100.885557"
      ]
     },
     "execution_count": 16,
     "metadata": {},
     "output_type": "execute_result"
    }
   ],
   "source": [
    "# Предсказания модели и реальные данные региона №2\n",
    "predictions_2 = LRegression(X_train_2, X_valid_2, Y_train_2, Y_valid_2)\n",
    "predictions_2.head()"
   ]
  },
  {
   "cell_type": "markdown",
   "metadata": {},
   "source": [
    "### Вывод\n",
    "1. Признак f2 и целевой признак product запасы нефти в скважине коррелированы со значениями от 0.44 до 0.99 по всем регионам что сказывается на обучение модели. \n",
    "2. Там где корреляция максимальна - модель не ошибается, это логично для Линейной регресси. Но даже там где среднеквадратичная ошибка равна почти 50% от среднего, среднее предсказаний по региону имеет точность до десятых долей в сравнении со средним реальных данных что отлично.\n",
    "3. RMSE моделей там где корреляция выражена слабо откровенно плохая, по всей видимости в регионах №0 и №1 показатели запасов сырья имеют большой разброс с чем линейная регрессия несправляется."
   ]
  },
  {
   "cell_type": "markdown",
   "metadata": {},
   "source": [
    "# 3. Подготовка к расчёту прибыли<a id='3-bullet'></a>"
   ]
  },
  {
   "cell_type": "code",
   "execution_count": 17,
   "metadata": {
    "scrolled": true
   },
   "outputs": [
    {
     "name": "stdout",
     "output_type": "stream",
     "text": [
      "Безубыточный объем сырья для разработки скважины: 111.111111 тыс. баррелей\n",
      "\n",
      "В регионе № 0 средний запас предсказанного cырья на скважину составляет: 83.45 % от уровня безубыточности\n",
      "\n",
      "В регионе № 1 средний запас предсказанного cырья на скважину составляет: 62.14 % от уровня безубыточности\n",
      "\n",
      "В регионе № 2 средний запас предсказанного cырья на скважину составляет: 85.37 % от уровня безубыточности\n"
     ]
    }
   ],
   "source": [
    "# Константы\n",
    "BUDGET = 10000000000\n",
    "BARREL_CASH = 450000\n",
    "PROBABILITY_LOSS = 2.5\n",
    "OIL_WELL = 200\n",
    "\n",
    "# Рассчитаем достаточный объём сырья для безубыточной разработки одной скважины\n",
    "V_VOLUME = round(BUDGET / OIL_WELL / BARREL_CASH, 6)\n",
    "print('Безубыточный объем сырья для разработки скважины:',V_VOLUME,'тыс. баррелей')\n",
    "print()\n",
    "\n",
    "# Сравним полученный объём сырья со средним запасом в каждом регионе\n",
    "print('В регионе № 0 средний запас предсказанного cырья на скважину составляет:', \n",
    "      round(predictions_0['predictions'].mean() / V_VOLUME * 100, 2),'% от уровня безубыточности')\n",
    "print()\n",
    "print('В регионе № 1 средний запас предсказанного cырья на скважину составляет:', \n",
    "      round(predictions_1['predictions'].mean() / V_VOLUME * 100, 2),'% от уровня безубыточности')\n",
    "print()\n",
    "print('В регионе № 2 средний запас предсказанного cырья на скважину составляет:', \n",
    "      round(predictions_2['predictions'].mean() / V_VOLUME * 100, 2),'% от уровня безубыточности')"
   ]
  },
  {
   "cell_type": "markdown",
   "metadata": {},
   "source": [
    "### Вывод\n",
    "1. Скважина которая приносит 0 дохода/расхода должна распологать запасами 111.111111 тыс. баррелей. \n",
    "2. Регион с самыми предсказуемыми нашей моделью запасами обладает самым низким средним запасом нефти на скважиту почти 50% от точки безубыточности. Это резко снизит количество скважин в этом регионе перспективных к разработке.\n",
    "3. Наша модель исходя из метрики RMSE часто ошибается, но в среднем предсказывает неплохие перспективы в регионах №0 и №2, проанализируем это далее."
   ]
  },
  {
   "cell_type": "markdown",
   "metadata": {},
   "source": [
    "# 4. Расчёт прибыли и рисков <a id='4-bullet'></a>"
   ]
  },
  {
   "cell_type": "code",
   "execution_count": 18,
   "metadata": {},
   "outputs": [],
   "source": [
    "# Функция для расчёта прибыли по выбранным скважинам и предсказаниям модели\n",
    "def profit(predictions, product):\n",
    "    # Выберем 200 лучших скважен из выбранных моделью\n",
    "    sort_well = predictions.sort_values(ascending=False)[:200]\n",
    "    # Объем реального сырья по 200 лучшим признакам \n",
    "    product_well = product['product'][sort_well.index]\n",
    "    # Прибыль по целевому признаку\n",
    "    return round(((product_well  - V_VOLUME) * BARREL_CASH).sum(), 2)"
   ]
  },
  {
   "cell_type": "code",
   "execution_count": 19,
   "metadata": {
    "scrolled": false
   },
   "outputs": [],
   "source": [
    "# Применим технику Bootstrap с 1000 выборок\n",
    "state = np.random.RandomState(12345)\n",
    "def bootstrap(df):    \n",
    "    values = []\n",
    "    for i in range(1000):\n",
    "        search = df['product'].sample(n=500, replace=True, random_state=state)\n",
    "        predict_model = df['predictions'][search.index]  \n",
    "        values.append(profit(predict_model, df))\n",
    "        \n",
    "\n",
    "    values = pd.Series(values)\n",
    "    print('Средняя прибыль:',round(values.mean(), 2), 'рублей')\n",
    "    print('95%-ый доверительный интервал:', round(values.quantile(0.025),2),'-',round(values.quantile(0.975),2),'рублей')\n",
    "    risk_loss = sum(values.apply(lambda x: 1 if x <= 0 else 0)) / sum(values.apply(lambda x: 1 if x>=0 else 0)) * 100\n",
    "    print('Вероятность убытков:',round(risk_loss),\"%\")"
   ]
  },
  {
   "cell_type": "code",
   "execution_count": 20,
   "metadata": {},
   "outputs": [
    {
     "name": "stdout",
     "output_type": "stream",
     "text": [
      "Средняя прибыль: 388753028.27 рублей\n",
      "95%-ый доверительный интервал: -137364016.15 - 923041449.88 рублей\n",
      "Вероятность убытков: 8 %\n"
     ]
    }
   ],
   "source": [
    "# Найдем основные экономические параметры региона №0\n",
    "bootstrap(predictions_0)"
   ]
  },
  {
   "cell_type": "code",
   "execution_count": 21,
   "metadata": {},
   "outputs": [
    {
     "name": "stdout",
     "output_type": "stream",
     "text": [
      "Средняя прибыль: 460711471.67 рублей\n",
      "95%-ый доверительный интервал: 80007005.5 - 871170223.21 рублей\n",
      "Вероятность убытков: 1 %\n"
     ]
    }
   ],
   "source": [
    "# Найдем основные экономические параметры региона №1\n",
    "bootstrap(predictions_1)"
   ]
  },
  {
   "cell_type": "code",
   "execution_count": 22,
   "metadata": {},
   "outputs": [
    {
     "name": "stdout",
     "output_type": "stream",
     "text": [
      "Средняя прибыль: 349201562.64 рублей\n",
      "95%-ый доверительный интервал: -175439638.84 - 872763361.61 рублей\n",
      "Вероятность убытков: 11 %\n"
     ]
    }
   ],
   "source": [
    "# Найдем основные экономические параметры региона №2\n",
    "bootstrap(predictions_2)"
   ]
  },
  {
   "cell_type": "markdown",
   "metadata": {},
   "source": [
    "# Вывод<a id='5-bullet'></a>\n",
    "1. Модели по каждому из 3-х регионов позволили нам выбрать скважины с положительной средней прибылью, у 2-х регионов 95% доверительный интервал значительно смещен в убыточную зону, нужно провести работу с заказчиком по поиску признаков лучшего качества для построения более адекватной модели.\n",
    "2. Вынести вердикт - какой из регионов рекомендовать в разработку невозможно до уточнения признаков региона 1, если не брать в расчет аномалии данных у него лучшие показатели. Нижняя граница доверительно интервала уже находиться в прибыли и средняя прибыль самая большая из 3-х регионов. Вероятность убытков составляет всего 1%."
   ]
  }
 ],
 "metadata": {
  "kernelspec": {
   "display_name": "Python 3",
   "language": "python",
   "name": "python3"
  },
  "language_info": {
   "codemirror_mode": {
    "name": "ipython",
    "version": 3
   },
   "file_extension": ".py",
   "mimetype": "text/x-python",
   "name": "python",
   "nbconvert_exporter": "python",
   "pygments_lexer": "ipython3",
   "version": "3.8.5"
  },
  "toc": {
   "base_numbering": 1,
   "nav_menu": {},
   "number_sections": true,
   "sideBar": true,
   "skip_h1_title": true,
   "title_cell": "Table of Contents",
   "title_sidebar": "Contents",
   "toc_cell": false,
   "toc_position": {},
   "toc_section_display": true,
   "toc_window_display": false
  }
 },
 "nbformat": 4,
 "nbformat_minor": 2
}
