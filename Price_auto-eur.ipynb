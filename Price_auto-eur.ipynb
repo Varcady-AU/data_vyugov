{
 "cells": [
  {
   "cell_type": "markdown",
   "metadata": {},
   "source": [
    "Сервис по продаже автомобилей с пробегом «Не бит, не крашен» разрабатывает приложение для привлечения новых клиентов. В нём можно быстро узнать рыночную стоимость своего автомобиля. В вашем распоряжении исторические данные: технические характеристики, комплектации и цены автомобилей. Вам нужно построить модель для определения стоимости. \n",
    "\n",
    "Заказчику важны:\n",
    "\n",
    "- качество предсказания;\n",
    "- скорость предсказания;\n",
    "- время обучения."
   ]
  },
  {
   "cell_type": "markdown",
   "metadata": {},
   "source": [
    "### 1. Подготовка данных\n"
   ]
  },
  {
   "cell_type": "code",
   "execution_count": 5,
   "metadata": {},
   "outputs": [],
   "source": [
    "from IPython.display import display\n",
    "import pandas as pd\n",
    "import numpy as np\n",
    "from plotly.subplots import make_subplots\n",
    "import plotly.graph_objects as go\n",
    "from sklearn.preprocessing import OrdinalEncoder\n",
    "from sklearn.preprocessing import StandardScaler\n",
    "from sklearn.model_selection import train_test_split\n",
    "from sklearn.tree import DecisionTreeRegressor\n",
    "from sklearn.ensemble import RandomForestRegressor\n",
    "from sklearn.model_selection import GridSearchCV, cross_val_score\n",
    "from lightgbm import LGBMRegressor\n",
    "from catboost import CatBoostRegressor\n",
    "from sklearn.dummy import DummyRegressor\n",
    "import time\n",
    "import seaborn as sns\n",
    "import matplotlib.pyplot as plt\n",
    "from sklearn.model_selection import StratifiedShuffleSplit\n",
    "from sklearn.utils import shuffle\n",
    "from sklearn.metrics import mean_absolute_error"
   ]
  },
  {
   "cell_type": "code",
   "execution_count": 6,
   "metadata": {},
   "outputs": [],
   "source": [
    "# Разработанные функции из файла funktions\n",
    "from funktions import number_of_passes"
   ]
  },
  {
   "cell_type": "markdown",
   "metadata": {},
   "source": [
    "# 1. Подготовка данных"
   ]
  },
  {
   "cell_type": "code",
   "execution_count": 7,
   "metadata": {
    "scrolled": false
   },
   "outputs": [
    {
     "data": {
      "text/html": [
       "<div>\n",
       "<style scoped>\n",
       "    .dataframe tbody tr th:only-of-type {\n",
       "        vertical-align: middle;\n",
       "    }\n",
       "\n",
       "    .dataframe tbody tr th {\n",
       "        vertical-align: top;\n",
       "    }\n",
       "\n",
       "    .dataframe thead th {\n",
       "        text-align: right;\n",
       "    }\n",
       "</style>\n",
       "<table border=\"1\" class=\"dataframe\">\n",
       "  <thead>\n",
       "    <tr style=\"text-align: right;\">\n",
       "      <th></th>\n",
       "      <th>specifications</th>\n",
       "      <th>sum_NaN</th>\n",
       "      <th>passes_NaN</th>\n",
       "    </tr>\n",
       "  </thead>\n",
       "  <tbody>\n",
       "    <tr>\n",
       "      <th>0</th>\n",
       "      <td>VehicleType</td>\n",
       "      <td>37490</td>\n",
       "      <td>10.6</td>\n",
       "    </tr>\n",
       "    <tr>\n",
       "      <th>1</th>\n",
       "      <td>NotRepaired</td>\n",
       "      <td>71154</td>\n",
       "      <td>20.1</td>\n",
       "    </tr>\n",
       "    <tr>\n",
       "      <th>2</th>\n",
       "      <td>Model</td>\n",
       "      <td>19705</td>\n",
       "      <td>5.6</td>\n",
       "    </tr>\n",
       "    <tr>\n",
       "      <th>3</th>\n",
       "      <td>Gearbox</td>\n",
       "      <td>19833</td>\n",
       "      <td>5.6</td>\n",
       "    </tr>\n",
       "    <tr>\n",
       "      <th>4</th>\n",
       "      <td>FuelType</td>\n",
       "      <td>32895</td>\n",
       "      <td>9.3</td>\n",
       "    </tr>\n",
       "  </tbody>\n",
       "</table>\n",
       "</div>"
      ],
      "text/plain": [
       "  specifications  sum_NaN  passes_NaN\n",
       "0    VehicleType    37490        10.6\n",
       "1    NotRepaired    71154        20.1\n",
       "2          Model    19705         5.6\n",
       "3        Gearbox    19833         5.6\n",
       "4       FuelType    32895         9.3"
      ]
     },
     "metadata": {},
     "output_type": "display_data"
    }
   ],
   "source": [
    "df_car = pd.read_csv('/home/varcady/Документы/Project_YDX/2_Yandex/10_car_price/autos.csv')\n",
    "display(number_of_passes(df_car))\n",
    "#df_car.info()"
   ]
  },
  {
   "cell_type": "markdown",
   "metadata": {},
   "source": [
    "## Вывод\n",
    "Наша задача оставить данные максимально близкие к реальности, допускаем восстановление пропусков посредством агрегации по другим признакам где это возможно с минимальными искажениями.\n",
    "1. DateCrawled, NumberOfPictures, LastSeen, DateCreated  - не имеющая отношения к цене информация - удаляем;\n",
    "2. Строки с NaN по признакам, которые имеют большое влияние на цену без возможноти восстановления - удаляем; \n",
    "3. Строки с выбросами удаляем\n",
    "4. Строки с ценой менее 50 евро принимаем как неадекватные - оценивать меньше не имеет смысла.\n",
    "5. Нулевой месяц принимаем - как случай с неизвестным месяцем регистрации."
   ]
  },
  {
   "cell_type": "code",
   "execution_count": 8,
   "metadata": {},
   "outputs": [
    {
     "data": {
      "text/plain": [
       "(243315, 11)"
      ]
     },
     "execution_count": 8,
     "metadata": {},
     "output_type": "execute_result"
    }
   ],
   "source": [
    "df_car = df_car.drop({'DateCrawled', 'NumberOfPictures', 'LastSeen', 'DateCreated', 'PostalCode'}, axis=1)\n",
    "df_car.dropna(subset=['Model', 'Gearbox', 'FuelType'], inplace=True)\n",
    "# Заполнение ячеек дата сет по условию\n",
    "df_car = df_car[(df_car['Power'] >= 30) & (df_car['Power'] <= 247)]\n",
    "df_car = df_car[(df_car['RegistrationYear'] <= 2014) & (df_car['RegistrationYear'] >= 1990)]\n",
    "df_car = df_car[df_car['Kilometer'] >= 5000]\n",
    "df_car = df_car[(df_car['Price'] >= 100) & (df_car['Price'] <= 16000)].reset_index(drop=True)\n",
    "df_car['Power'] = df_car['Power'].replace(0, np.nan)\n",
    "df_car['Power'] = (df_car.groupby(['Model', 'RegistrationYear', 'FuelType', 'Gearbox'])['Power']\n",
    "                  .apply(lambda x: x.fillna(x.median())))\n",
    "df_car.shape\n",
    "#pd.DataFrame(df_car['Power'].value_counts()).head(30)"
   ]
  },
  {
   "cell_type": "code",
   "execution_count": 9,
   "metadata": {},
   "outputs": [
    {
     "data": {
      "text/html": [
       "<div>\n",
       "<style scoped>\n",
       "    .dataframe tbody tr th:only-of-type {\n",
       "        vertical-align: middle;\n",
       "    }\n",
       "\n",
       "    .dataframe tbody tr th {\n",
       "        vertical-align: top;\n",
       "    }\n",
       "\n",
       "    .dataframe thead th {\n",
       "        text-align: right;\n",
       "    }\n",
       "</style>\n",
       "<table border=\"1\" class=\"dataframe\">\n",
       "  <thead>\n",
       "    <tr style=\"text-align: right;\">\n",
       "      <th></th>\n",
       "      <th>Price</th>\n",
       "      <th>VehicleType</th>\n",
       "      <th>RegistrationYear</th>\n",
       "      <th>Gearbox</th>\n",
       "      <th>Power</th>\n",
       "      <th>Model</th>\n",
       "      <th>Kilometer</th>\n",
       "      <th>RegistrationMonth</th>\n",
       "      <th>FuelType</th>\n",
       "      <th>Brand</th>\n",
       "      <th>NotRepaired</th>\n",
       "    </tr>\n",
       "  </thead>\n",
       "  <tbody>\n",
       "    <tr>\n",
       "      <th>0</th>\n",
       "      <td>9800</td>\n",
       "      <td>no</td>\n",
       "      <td>2004</td>\n",
       "      <td>auto</td>\n",
       "      <td>163</td>\n",
       "      <td>grand</td>\n",
       "      <td>125000</td>\n",
       "      <td>8</td>\n",
       "      <td>gasoline</td>\n",
       "      <td>jeep</td>\n",
       "      <td>no</td>\n",
       "    </tr>\n",
       "    <tr>\n",
       "      <th>1</th>\n",
       "      <td>1500</td>\n",
       "      <td>no</td>\n",
       "      <td>2001</td>\n",
       "      <td>manual</td>\n",
       "      <td>75</td>\n",
       "      <td>golf</td>\n",
       "      <td>150000</td>\n",
       "      <td>6</td>\n",
       "      <td>petrol</td>\n",
       "      <td>volkswagen</td>\n",
       "      <td>no</td>\n",
       "    </tr>\n",
       "    <tr>\n",
       "      <th>2</th>\n",
       "      <td>3600</td>\n",
       "      <td>no</td>\n",
       "      <td>2008</td>\n",
       "      <td>manual</td>\n",
       "      <td>69</td>\n",
       "      <td>fabia</td>\n",
       "      <td>90000</td>\n",
       "      <td>7</td>\n",
       "      <td>gasoline</td>\n",
       "      <td>skoda</td>\n",
       "      <td>no</td>\n",
       "    </tr>\n",
       "    <tr>\n",
       "      <th>3</th>\n",
       "      <td>650</td>\n",
       "      <td>yes</td>\n",
       "      <td>1995</td>\n",
       "      <td>manual</td>\n",
       "      <td>102</td>\n",
       "      <td>3er</td>\n",
       "      <td>150000</td>\n",
       "      <td>10</td>\n",
       "      <td>petrol</td>\n",
       "      <td>bmw</td>\n",
       "      <td>yes</td>\n",
       "    </tr>\n",
       "    <tr>\n",
       "      <th>4</th>\n",
       "      <td>2200</td>\n",
       "      <td>no</td>\n",
       "      <td>2004</td>\n",
       "      <td>manual</td>\n",
       "      <td>109</td>\n",
       "      <td>2_reihe</td>\n",
       "      <td>150000</td>\n",
       "      <td>8</td>\n",
       "      <td>petrol</td>\n",
       "      <td>peugeot</td>\n",
       "      <td>no</td>\n",
       "    </tr>\n",
       "  </tbody>\n",
       "</table>\n",
       "</div>"
      ],
      "text/plain": [
       "   Price VehicleType  RegistrationYear Gearbox  Power    Model  Kilometer  \\\n",
       "0   9800          no              2004    auto    163    grand     125000   \n",
       "1   1500          no              2001  manual     75     golf     150000   \n",
       "2   3600          no              2008  manual     69    fabia      90000   \n",
       "3    650         yes              1995  manual    102      3er     150000   \n",
       "4   2200          no              2004  manual    109  2_reihe     150000   \n",
       "\n",
       "   RegistrationMonth  FuelType       Brand NotRepaired  \n",
       "0                  8  gasoline        jeep          no  \n",
       "1                  6    petrol  volkswagen          no  \n",
       "2                  7  gasoline       skoda          no  \n",
       "3                 10    petrol         bmw         yes  \n",
       "4                  8    petrol     peugeot          no  "
      ]
     },
     "metadata": {},
     "output_type": "display_data"
    }
   ],
   "source": [
    "df_car['NotRepaired'] = df_car['NotRepaired'].fillna('no')\n",
    "df_car['VehicleType'] = df_car['NotRepaired'].fillna('other')\n",
    "display(df_car.head())"
   ]
  },
  {
   "cell_type": "code",
   "execution_count": 10,
   "metadata": {},
   "outputs": [],
   "source": [
    "# Построение гисторамм и ящиков с усами рядом друг с другом. \n",
    "def make_many_subplots(df, title):\n",
    "    fig = make_subplots(rows = 4, cols = 2)# 4 графика в 2 ряда\n",
    "    fig.add_trace(go.Histogram(x=df['Price'], name='Цена' ), row =1, col=1)\n",
    "    fig.add_trace(go.Histogram(x=df['Power'], name='Мощность двигателя'), row =2, col=1)\n",
    "    fig.add_trace(go.Histogram(x=df['Kilometer'], name='Пробег'), row=3, col=1)\n",
    "    fig.add_trace(go.Histogram(x=df['RegistrationYear'], name='Год регистрации'), row=4, col=1)\n",
    "\n",
    "    fig.add_trace(go.Box(y=df['Price'], name='Цена'), row=1, col=2)\n",
    "    fig.add_trace(go.Box(y=df['Power'], name='Мощность двигателя'), row=2, col=2)\n",
    "    fig.add_trace(go.Box(y=df['Kilometer'], name='Пробег'), row=3, col=2)\n",
    "    fig.add_trace(go.Box(y=df['RegistrationYear'], name = 'Год регистрации'), row=4, col=2)\n",
    "    \n",
    "    fig.update_layout(height=800, width=1000, title_text=title)\n",
    "    fig.show()"
   ]
  },
  {
   "cell_type": "code",
   "execution_count": 31,
   "metadata": {
    "scrolled": false
   },
   "outputs": [],
   "source": [
    "# make_many_subplots(df_car, 'Основные показатели')"
   ]
  },
  {
   "cell_type": "code",
   "execution_count": 12,
   "metadata": {
    "scrolled": false
   },
   "outputs": [],
   "source": [
    "\n",
    "columns_en = ['VehicleType', 'Gearbox', 'Model', 'FuelType','NotRepaired', 'Brand']\n",
    "enc = OrdinalEncoder()\n",
    "df_car[columns_en] = (enc.fit_transform(df_car[columns_en], df_car.columns)).astype(int)\n",
    "df_car_grad = df_car.copy()\n",
    "#df_car.describe()"
   ]
  },
  {
   "cell_type": "code",
   "execution_count": 13,
   "metadata": {},
   "outputs": [
    {
     "data": {
      "image/png": "[encoded data removed]",
      "text/plain": [
       "<Figure size 720x720 with 2 Axes>"
      ]
     },
     "metadata": {
      "needs_background": "light"
     },
     "output_type": "display_data"
    }
   ],
   "source": [
    "# Проверим данные на корреляции, если больше 80% один из признаков нужно удалить\n",
    "corr = df_car.corr()\n",
    "fig, ax = plt.subplots(figsize=(10,10)) \n",
    "ax = sns.heatmap(\n",
    "    corr, \n",
    "    vmin=-1, vmax=1, center=0,\n",
    "    cmap=sns.diverging_palette(20, 220, n=200),\n",
    "    square=True,\n",
    "    annot=True\n",
    ")\n",
    "ax.set_xticklabels(\n",
    "    ax.get_xticklabels(),\n",
    "    rotation=45,\n",
    "    horizontalalignment='right',\n",
    ");"
   ]
  },
  {
   "cell_type": "code",
   "execution_count": 14,
   "metadata": {},
   "outputs": [],
   "source": [
    "# Разделим данные на признаки и целевой признак, заодно удалим коррелированный признак\n",
    "features = df_car.drop(['Price', 'VehicleType'], axis = 1)\n",
    "target = df_car['Price']"
   ]
  },
  {
   "cell_type": "code",
   "execution_count": 15,
   "metadata": {},
   "outputs": [
    {
     "data": {
      "text/html": [
       "<div>\n",
       "<style scoped>\n",
       "    .dataframe tbody tr th:only-of-type {\n",
       "        vertical-align: middle;\n",
       "    }\n",
       "\n",
       "    .dataframe tbody tr th {\n",
       "        vertical-align: top;\n",
       "    }\n",
       "\n",
       "    .dataframe thead th {\n",
       "        text-align: right;\n",
       "    }\n",
       "</style>\n",
       "<table border=\"1\" class=\"dataframe\">\n",
       "  <thead>\n",
       "    <tr style=\"text-align: right;\">\n",
       "      <th></th>\n",
       "      <th>RegistrationYear</th>\n",
       "      <th>Gearbox</th>\n",
       "      <th>Power</th>\n",
       "      <th>Model</th>\n",
       "      <th>Kilometer</th>\n",
       "      <th>RegistrationMonth</th>\n",
       "      <th>FuelType</th>\n",
       "      <th>Brand</th>\n",
       "      <th>NotRepaired</th>\n",
       "    </tr>\n",
       "  </thead>\n",
       "  <tbody>\n",
       "    <tr>\n",
       "      <th>0</th>\n",
       "      <td>2004</td>\n",
       "      <td>0</td>\n",
       "      <td>163</td>\n",
       "      <td>117</td>\n",
       "      <td>125000</td>\n",
       "      <td>8</td>\n",
       "      <td>2</td>\n",
       "      <td>14</td>\n",
       "      <td>0</td>\n",
       "    </tr>\n",
       "    <tr>\n",
       "      <th>1</th>\n",
       "      <td>2001</td>\n",
       "      <td>1</td>\n",
       "      <td>75</td>\n",
       "      <td>116</td>\n",
       "      <td>150000</td>\n",
       "      <td>6</td>\n",
       "      <td>6</td>\n",
       "      <td>37</td>\n",
       "      <td>0</td>\n",
       "    </tr>\n",
       "    <tr>\n",
       "      <th>2</th>\n",
       "      <td>2008</td>\n",
       "      <td>1</td>\n",
       "      <td>69</td>\n",
       "      <td>101</td>\n",
       "      <td>90000</td>\n",
       "      <td>7</td>\n",
       "      <td>2</td>\n",
       "      <td>31</td>\n",
       "      <td>0</td>\n",
       "    </tr>\n",
       "    <tr>\n",
       "      <th>3</th>\n",
       "      <td>1995</td>\n",
       "      <td>1</td>\n",
       "      <td>102</td>\n",
       "      <td>11</td>\n",
       "      <td>150000</td>\n",
       "      <td>10</td>\n",
       "      <td>6</td>\n",
       "      <td>2</td>\n",
       "      <td>1</td>\n",
       "    </tr>\n",
       "    <tr>\n",
       "      <th>4</th>\n",
       "      <td>2004</td>\n",
       "      <td>1</td>\n",
       "      <td>109</td>\n",
       "      <td>8</td>\n",
       "      <td>150000</td>\n",
       "      <td>8</td>\n",
       "      <td>6</td>\n",
       "      <td>25</td>\n",
       "      <td>0</td>\n",
       "    </tr>\n",
       "  </tbody>\n",
       "</table>\n",
       "</div>"
      ],
      "text/plain": [
       "   RegistrationYear  Gearbox  Power  Model  Kilometer  RegistrationMonth  \\\n",
       "0              2004        0    163    117     125000                  8   \n",
       "1              2001        1     75    116     150000                  6   \n",
       "2              2008        1     69    101      90000                  7   \n",
       "3              1995        1    102     11     150000                 10   \n",
       "4              2004        1    109      8     150000                  8   \n",
       "\n",
       "   FuelType  Brand  NotRepaired  \n",
       "0         2     14            0  \n",
       "1         6     37            0  \n",
       "2         2     31            0  \n",
       "3         6      2            1  \n",
       "4         6     25            0  "
      ]
     },
     "execution_count": 15,
     "metadata": {},
     "output_type": "execute_result"
    }
   ],
   "source": [
    "features.head()"
   ]
  },
  {
   "cell_type": "code",
   "execution_count": 16,
   "metadata": {},
   "outputs": [
    {
     "name": "stdout",
     "output_type": "stream",
     "text": [
      "Размеры выборок:\n",
      "Обучающая: (194652, 9)\n",
      "Тестовая: (48663, 9)\n"
     ]
    }
   ],
   "source": [
    "# Стратифицируем выборку и разделим на обучающую и тестовую\n",
    "# Для стратификации выборки по целевому признаку найдем его 10 квантилей - это будут корзины\n",
    "bins = np.quantile(target, np.arange(0,1,0.1)) \n",
    "# распределим целевой признак по этим корзинкам\n",
    "target_binned = np.digitize(target, bins) \n",
    "# инициализиуем сплиттер, нам надо разделить на 2 выборки: train, valid\n",
    "sss = StratifiedShuffleSplit(n_splits=2, test_size=0.2, random_state=12345)\n",
    "# получаем интексы для разделения выборок на основе binned таргета\n",
    "train_index, test_index = sss.split(features, target_binned)\n",
    "# используем индексы для получения выборок\n",
    "features_train, features_test = features.iloc[train_index[0]], features.iloc[test_index[1]]\n",
    "target_train, target_test = target.iloc[train_index[0]], target.iloc[test_index[1]]\n",
    "print('Размеры выборок:')\n",
    "print('Обучающая:', features_train.shape)\n",
    "print('Тестовая:', features_test.shape)   \n",
    "#инициализируем стандартизатор\n",
    "scaler = StandardScaler()\n",
    "# обучаем его на train\n",
    "scaler.fit(features_train)\n",
    "# трансформируем и train и test\n",
    "features_train = scaler.transform(features_train)\n",
    "features_test = scaler.transform(features_test)"
   ]
  },
  {
   "cell_type": "markdown",
   "metadata": {},
   "source": [
    "# 2. Обучение моделей"
   ]
  },
  {
   "cell_type": "markdown",
   "metadata": {},
   "source": [
    "#### Подбор гиперпараметров модели решающего дерева "
   ]
  },
  {
   "cell_type": "code",
   "execution_count": 17,
   "metadata": {},
   "outputs": [],
   "source": [
    "# Запишем параметры модели\n",
    "tree_params = {\n",
    "    'max_depth': range(2,20),\n",
    "    'min_samples_leaf': range(2,4),\n",
    "    'min_samples_split': range(2,5)}"
   ]
  },
  {
   "cell_type": "code",
   "execution_count": 18,
   "metadata": {},
   "outputs": [],
   "source": [
    "# start = time.time()\n",
    "# # Найдем оптимальные гиперпараметры\n",
    "# tree = DecisionTreeRegressor(random_state=12345)\n",
    "# tree_grid = GridSearchCV(tree, tree_params, cv=3, n_jobs=-1, scoring='neg_mean_absolute_error', verbose=True)\n",
    "# # Обучим модель\n",
    "# tree_grid.fit(features_train, target_train)\n",
    "# # печать оптимальных параметров\n",
    "# print(tree_grid.best_params_, tree_grid.best_score_)\n",
    "# end = time.time()\n",
    "# Tree_time1 = round(end - start, 1)\n",
    "# print(Tree_time1)\n",
    "\n",
    "# {'max_depth': 17, 'min_samples_leaf': 3, 'min_samples_split': 2} -987.2782158345866"
   ]
  },
  {
   "cell_type": "markdown",
   "metadata": {},
   "source": [
    "#### Подбор гиперпараметров модели Случайного леса"
   ]
  },
  {
   "cell_type": "code",
   "execution_count": 19,
   "metadata": {},
   "outputs": [],
   "source": [
    "forest_params = {\n",
    "    'min_samples_split': [2, 3],\n",
    "    'min_samples_leaf': [2, 4],\n",
    "    'n_estimators': range(200, 300, 50)}"
   ]
  },
  {
   "cell_type": "code",
   "execution_count": 20,
   "metadata": {
    "scrolled": true
   },
   "outputs": [],
   "source": [
    "# start = time.time()\n",
    "# # Найдем оптимальные гиперпараметры\n",
    "# forest = RandomForestRegressor(random_state=12345)\n",
    "# forest_class_weight = GridSearchCV(forest, forest_params, cv=3, n_jobs=-1, scoring='neg_mean_absolute_error', verbose=True)\n",
    "# # Обучим модель\n",
    "# forest_class_weight.fit(features_train, target_train)\n",
    "# print(forest_class_weight.best_params_, forest_class_weight.best_score_)\n",
    "# end = time.time()\n",
    "# Forest_time1 = round(end - start, 1)\n",
    "# print(Forest_time1)\n",
    "\n",
    "# {'min_samples_leaf': 2, 'min_samples_split': 2, 'n_estimators': 250} -885.6401313792976"
   ]
  },
  {
   "cell_type": "markdown",
   "metadata": {},
   "source": [
    "#### Подбор гиперпараметров модели LGBM"
   ]
  },
  {
   "cell_type": "code",
   "execution_count": 21,
   "metadata": {},
   "outputs": [],
   "source": [
    "LGBM_params = {\n",
    "    'max_depth': range(5,10),\n",
    "    'num_leaves': range(6,10),\n",
    "    'n_estimators': range(1000, 2000, 100)}"
   ]
  },
  {
   "cell_type": "code",
   "execution_count": 22,
   "metadata": {},
   "outputs": [],
   "source": [
    "# start = time.time()\n",
    "# # Найдем оптимальные гиперпараметры \n",
    "# model_LGBM = LGBMRegressor(random_state=287)\n",
    "\n",
    "# LGBM_class_weight = GridSearchCV(model_LGBM, LGBM_params, cv=3, n_jobs=-1,\n",
    "#                                  scoring='neg_mean_absolute_error', verbose=True)\n",
    "# # Обучим модель\n",
    "# LGBM_class_weight.fit(features_train, target_train)\n",
    "# print(LGBM_class_weight.best_params_, LGBM_class_weight.best_score_)\n",
    "# end = time.time()\n",
    "# LGBM_time1 = round(end - start, 1)\n",
    "# print(LGBM_time1)\n",
    "\n",
    "# {'max_depth': 8, 'n_estimators': 1900, 'num_leaves': 9} -887.0982174612292"
   ]
  },
  {
   "cell_type": "markdown",
   "metadata": {},
   "source": [
    "#### Подбор гиперпараметров модели CatBoost"
   ]
  },
  {
   "cell_type": "code",
   "execution_count": 23,
   "metadata": {},
   "outputs": [],
   "source": [
    "CatBoost_params = {'depth': [8, 10],\n",
    "                   'l2_leaf_reg': [7, 9],\n",
    "                   'iterations': range(800, 1000, 50)}"
   ]
  },
  {
   "cell_type": "code",
   "execution_count": 24,
   "metadata": {},
   "outputs": [],
   "source": [
    "# start = time.time()\n",
    "# model_CatBoost = CatBoostRegressor(loss_function = 'MAE',\n",
    "#                                    verbose = False, \n",
    "#                                    random_state = 12345)\n",
    "        \n",
    "# CatBoost_class_weight = GridSearchCV(model_CatBoost, CatBoost_params, cv=3, n_jobs=-1, \n",
    "#                                    scoring='neg_mean_absolute_error', verbose=True)\n",
    "# # Обучим модель\n",
    "# CatBoost_class_weight.fit(features_train, target_train)\n",
    "# print(CatBoost_class_weight.best_params_, CatBoost_class_weight.best_score_) \n",
    "# end = time.time()\n",
    "# CatBoost_time1 = round(end - start, 1)\n",
    "# print(CatBoost_time1)\n",
    "\n",
    "# {'depth': 10, 'iterations': 950, 'l2_leaf_reg': 9} -886.5233223780839"
   ]
  },
  {
   "cell_type": "markdown",
   "metadata": {},
   "source": [
    "# 3. Анализ моделей"
   ]
  },
  {
   "cell_type": "code",
   "execution_count": 25,
   "metadata": {},
   "outputs": [
    {
     "name": "stdout",
     "output_type": "stream",
     "text": [
      "MAE на тестовом датасете: 3113.18\n"
     ]
    }
   ],
   "source": [
    "# Проверка моделей на адекватность\n",
    "model = DummyRegressor()\n",
    "model.fit(features_train, target_train)\n",
    "predictions = model.predict(features_test)\n",
    "mae = mean_absolute_error(target_test, predictions)\n",
    "print(\"MAE на тестовом датасете: {:.2f}\".format(mae))"
   ]
  },
  {
   "cell_type": "code",
   "execution_count": 26,
   "metadata": {},
   "outputs": [
    {
     "name": "stdout",
     "output_type": "stream",
     "text": [
      "MAE TreeRegressor: 806.9807491738122\n"
     ]
    }
   ],
   "source": [
    "# Обучим модель DecisionTreeRegressor \n",
    "start = time.time()\n",
    "tree = DecisionTreeRegressor(random_state=12345, max_depth=16, min_samples_leaf=3, min_samples_split=2)\n",
    "tree.fit(features_train, target_train)\n",
    "end = time.time()\n",
    "Tree_time2 = round(end - start, 1)\n",
    "\n",
    "# Предсказание DecisionTreeRegressor\n",
    "start = time.time()\n",
    "predictions_tree = tree.predict(features_test)\n",
    "Tree_result = mean_absolute_error(target_test, predictions_tree)\n",
    "print('MAE TreeRegressor:', Tree_result)\n",
    "end = time.time()\n",
    "Tree_time3 = round(end - start, 1)"
   ]
  },
  {
   "cell_type": "code",
   "execution_count": 27,
   "metadata": {},
   "outputs": [
    {
     "name": "stdout",
     "output_type": "stream",
     "text": [
      "MAE RandomForestRegressor: 722.2303109466154\n"
     ]
    }
   ],
   "source": [
    "# Обучим модель RandomForestRegressor \n",
    "start = time.time()\n",
    "forest = RandomForestRegressor(random_state=12345, n_estimators=250, min_samples_split=2, min_samples_leaf=4)\n",
    "forest.fit(features_train, target_train)\n",
    "end = time.time()\n",
    "Forest_time2 = round(end - start, 1)\n",
    "\n",
    "#Предсказание RandomForestRegressor\n",
    "start = time.time()\n",
    "predictions = forest.predict(features_test)\n",
    "Forest_result = mean_absolute_error(target_test, predictions)\n",
    "print('MAE RandomForestRegressor:', Forest_result)\n",
    "end = time.time()\n",
    "Forest_time3 = round(end - start, 1)"
   ]
  },
  {
   "cell_type": "code",
   "execution_count": 28,
   "metadata": {},
   "outputs": [
    {
     "name": "stdout",
     "output_type": "stream",
     "text": [
      "MAE LGBMRegressor: 859.4982784833634\n"
     ]
    }
   ],
   "source": [
    "# Обучим модель LGBMRegressor \n",
    "start = time.time()\n",
    "LGBM = LGBMRegressor(random_state=287, \n",
    "                      max_depth=8,\n",
    "                      num_leaves=9,\n",
    "                      n_estimators=1900)\n",
    "\n",
    "LGBM.fit(features_train, target_train)\n",
    "end = time.time()\n",
    "LGBM_time2 = round(end - start, 1)\n",
    "\n",
    "# Предсказание LGBMRegressor\n",
    "start = time.time()\n",
    "predictions = LGBM.predict(features_test)\n",
    "LGBM_result = mean_absolute_error(target_test, predictions)\n",
    "print('MAE LGBMRegressor:', LGBM_result)\n",
    "end = time.time()\n",
    "LGBM_time3 = round(end - start, 1)"
   ]
  },
  {
   "cell_type": "code",
   "execution_count": 29,
   "metadata": {},
   "outputs": [
    {
     "data": {
      "application/vnd.jupyter.widget-view+json": {
       "model_id": "ea2d64261ab94286ab948f5649af3c2f",
       "version_major": 2,
       "version_minor": 0
      },
      "text/plain": [
       "MetricVisualizer(layout=Layout(align_self='stretch', height='500px'))"
      ]
     },
     "metadata": {},
     "output_type": "display_data"
    },
    {
     "name": "stdout",
     "output_type": "stream",
     "text": [
      "MAE CatBoostRegressor: 853.9857653843816\n"
     ]
    }
   ],
   "source": [
    "# Обучим модель CatBoostRegressor \n",
    "start = time.time()\n",
    "model_CatBoost = CatBoostRegressor(iterations = 950,\n",
    "                                    loss_function = \"MAE\",\n",
    "                                    verbose = False,\n",
    "                                    depth = 10,\n",
    "                                    l2_leaf_reg = 9)\n",
    "\n",
    "model_CatBoost.fit(features_train, target_train, plot=True)\n",
    "end = time.time()\n",
    "CatBoost_time2 = round(end - start, 1)\n",
    "\n",
    "# Предсказание CatBoostRegressor\n",
    "start = time.time()\n",
    "predictions = model_CatBoost.predict(features_test)\n",
    "CatBoost_result = mean_absolute_error(target_test, predictions)\n",
    "print('MAE CatBoostRegressor:', CatBoost_result)\n",
    "end = time.time()\n",
    "CatBoost_time3 = round(end - start, 1)"
   ]
  },
  {
   "cell_type": "markdown",
   "metadata": {},
   "source": [
    "## Вывод"
   ]
  },
  {
   "cell_type": "code",
   "execution_count": 30,
   "metadata": {},
   "outputs": [
    {
     "data": {
      "text/html": [
       "<div>\n",
       "<style scoped>\n",
       "    .dataframe tbody tr th:only-of-type {\n",
       "        vertical-align: middle;\n",
       "    }\n",
       "\n",
       "    .dataframe tbody tr th {\n",
       "        vertical-align: top;\n",
       "    }\n",
       "\n",
       "    .dataframe thead th {\n",
       "        text-align: right;\n",
       "    }\n",
       "</style>\n",
       "<table border=\"1\" class=\"dataframe\">\n",
       "  <thead>\n",
       "    <tr style=\"text-align: right;\">\n",
       "      <th></th>\n",
       "      <th>Время обучения модели</th>\n",
       "      <th>Время предсказания</th>\n",
       "      <th>Качество модели (MAE)</th>\n",
       "      <th>Время обучения и предсказания</th>\n",
       "      <th>Общее время</th>\n",
       "    </tr>\n",
       "    <tr>\n",
       "      <th>Алгоритм</th>\n",
       "      <th></th>\n",
       "      <th></th>\n",
       "      <th></th>\n",
       "      <th></th>\n",
       "      <th></th>\n",
       "    </tr>\n",
       "  </thead>\n",
       "  <tbody>\n",
       "    <tr>\n",
       "      <th>DummyRegressor</th>\n",
       "      <td>0.0</td>\n",
       "      <td>0.0</td>\n",
       "      <td>3113.179146</td>\n",
       "      <td>0.0</td>\n",
       "      <td>0.0</td>\n",
       "    </tr>\n",
       "    <tr>\n",
       "      <th>DecisionTreeRegressor</th>\n",
       "      <td>0.6</td>\n",
       "      <td>0.0</td>\n",
       "      <td>806.980749</td>\n",
       "      <td>0.6</td>\n",
       "      <td>0.6</td>\n",
       "    </tr>\n",
       "    <tr>\n",
       "      <th>RandomForestRegressor</th>\n",
       "      <td>78.3</td>\n",
       "      <td>2.4</td>\n",
       "      <td>722.230311</td>\n",
       "      <td>80.7</td>\n",
       "      <td>80.7</td>\n",
       "    </tr>\n",
       "    <tr>\n",
       "      <th>LGBMRegressor</th>\n",
       "      <td>11.6</td>\n",
       "      <td>0.4</td>\n",
       "      <td>859.498278</td>\n",
       "      <td>12.0</td>\n",
       "      <td>12.0</td>\n",
       "    </tr>\n",
       "    <tr>\n",
       "      <th>CatBoostRegressor</th>\n",
       "      <td>19.4</td>\n",
       "      <td>0.0</td>\n",
       "      <td>853.985765</td>\n",
       "      <td>19.4</td>\n",
       "      <td>19.4</td>\n",
       "    </tr>\n",
       "  </tbody>\n",
       "</table>\n",
       "</div>"
      ],
      "text/plain": [
       "                       Время обучения модели  Время предсказания  \\\n",
       "Алгоритм                                                           \n",
       "DummyRegressor                           0.0                 0.0   \n",
       "DecisionTreeRegressor                    0.6                 0.0   \n",
       "RandomForestRegressor                   78.3                 2.4   \n",
       "LGBMRegressor                           11.6                 0.4   \n",
       "CatBoostRegressor                       19.4                 0.0   \n",
       "\n",
       "                       Качество модели (MAE)  Время обучения и предсказания  \\\n",
       "Алгоритм                                                                      \n",
       "DummyRegressor                   3113.179146                            0.0   \n",
       "DecisionTreeRegressor             806.980749                            0.6   \n",
       "RandomForestRegressor             722.230311                           80.7   \n",
       "LGBMRegressor                     859.498278                           12.0   \n",
       "CatBoostRegressor                 853.985765                           19.4   \n",
       "\n",
       "                       Общее время  \n",
       "Алгоритм                            \n",
       "DummyRegressor                 0.0  \n",
       "DecisionTreeRegressor          0.6  \n",
       "RandomForestRegressor         80.7  \n",
       "LGBMRegressor                 12.0  \n",
       "CatBoostRegressor             19.4  "
      ]
     },
     "metadata": {},
     "output_type": "display_data"
    }
   ],
   "source": [
    "data = {'Алгоритм':['DummyRegressor', 'DecisionTreeRegressor', 'RandomForestRegressor', 'LGBMRegressor', 'CatBoostRegressor'],\n",
    "        # 'Время подбора гиперпараметров' : [0, Tree_time1,Forest_time1, LGBM_time1, CatBoost_time1],\n",
    "        'Время обучения модели':[0, Tree_time2, Forest_time2, LGBM_time2, CatBoost_time2],\n",
    "        'Время предсказания': [0, Tree_time3, Forest_time3, LGBM_time3, CatBoost_time3],\n",
    "        'Качество модели (MAE)':[mae, Tree_result, Forest_result, LGBM_result, CatBoost_result]}\n",
    "     \n",
    "models = pd.DataFrame(data=data)\n",
    "models = models.set_index('Алгоритм')\n",
    "models['Время обучения и предсказания'] = models['Время обучения модели'] + models['Время предсказания']\n",
    "models['Общее время'] = ( \n",
    "        # models['Время подбора гиперпараметров'] + \n",
    "        models['Время обучения модели'] + models['Время предсказания']\n",
    ")\n",
    "display(models)   "
   ]
  },
  {
   "cell_type": "markdown",
   "metadata": {},
   "source": [
    "Для дальнейшего улучшения метрик необходимо стандартизировать вносимые пользователями данные, в настоящее время исходные данные черезвычайно \"шумные\". "
   ]
  }
 ],
 "metadata": {
  "interpreter": {
   "hash": "32906975c6ff3ebbced8e85293da4e6c1c67a2ddd93b542fb1f8a26f7c789ae1"
  },
  "kernelspec": {
   "display_name": "Python 3.10.4 ('.venv': poetry)",
   "language": "python",
   "name": "python3"
  },
  "language_info": {
   "codemirror_mode": {
    "name": "ipython",
    "version": 3
   },
   "file_extension": ".py",
   "mimetype": "text/x-python",
   "name": "python",
   "nbconvert_exporter": "python",
   "pygments_lexer": "ipython3",
   "version": "3.10.4"
  }
 },
 "nbformat": 4,
 "nbformat_minor": 2
}
